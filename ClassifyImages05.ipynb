{
 "cells": [
  {
   "cell_type": "code",
   "execution_count": 1,
   "metadata": {},
   "outputs": [],
   "source": [
    "import numpy as np # linear algebra\n",
    "import pandas as pd # data processing, CSV file I/O (e.g. pd.read_csv)\n",
    "import matplotlib.pyplot as plt\n",
    "from PIL import Image\n",
    "from tensorflow.keras.utils import to_categorical\n",
    "import os "
   ]
  },
  {
   "cell_type": "code",
   "execution_count": 2,
   "metadata": {},
   "outputs": [
    {
     "name": "stdout",
     "output_type": "stream",
     "text": [
      "      Unnamed: 0                                           filepath  \\\n",
      "0              0  C:/Users/Administrator/OneDrive - Florida Inte...   \n",
      "1              1  C:/Users/Administrator/OneDrive - Florida Inte...   \n",
      "2              2  C:/Users/Administrator/OneDrive - Florida Inte...   \n",
      "3              3  C:/Users/Administrator/OneDrive - Florida Inte...   \n",
      "4              4  C:/Users/Administrator/OneDrive - Florida Inte...   \n",
      "...          ...                                                ...   \n",
      "2478        2478  C:/Users/Administrator/OneDrive - Florida Inte...   \n",
      "2479        2479  C:/Users/Administrator/OneDrive - Florida Inte...   \n",
      "2480        2480  C:/Users/Administrator/OneDrive - Florida Inte...   \n",
      "2481        2481  C:/Users/Administrator/OneDrive - Florida Inte...   \n",
      "2482        2482  C:/Users/Administrator/OneDrive - Florida Inte...   \n",
      "\n",
      "                label  label2  \n",
      "0     Amanda Seyfried       0  \n",
      "1     Amanda Seyfried       0  \n",
      "2     Amanda Seyfried       0  \n",
      "3     Amanda Seyfried       0  \n",
      "4     Amanda Seyfried       0  \n",
      "...               ...     ...  \n",
      "2478       Will Smith       7  \n",
      "2479       Will Smith       7  \n",
      "2480       Will Smith       7  \n",
      "2481       Will Smith       7  \n",
      "2482       Will Smith       7  \n",
      "\n",
      "[2483 rows x 4 columns]\n"
     ]
    },
    {
     "data": {
      "text/plain": [
       "2483"
      ]
     },
     "execution_count": 2,
     "metadata": {},
     "output_type": "execute_result"
    }
   ],
   "source": [
    "X_1 = pd.read_csv(\"C:/Users/Administrator/OneDrive - Florida International University/Desktop/sema_project/data_new04.csv\")\n",
    "# X_1['label2'] = X_1['label'].factorize()[0]\n",
    "# X_1.to_csv(\"C:/Users/Administrator/OneDrive - Florida International University/Desktop/sema_project/data.csv\") \n",
    "\n",
    "print(X_1)\n",
    "len(X_1)"
   ]
  },
  {
   "cell_type": "code",
   "execution_count": 3,
   "metadata": {},
   "outputs": [
    {
     "name": "stdout",
     "output_type": "stream",
     "text": [
      "      Unnamed: 0                                           filepath  \\\n",
      "1           2114  C:/Users/Administrator/OneDrive - Florida Inte...   \n",
      "5            880  C:/Users/Administrator/OneDrive - Florida Inte...   \n",
      "6           1853  C:/Users/Administrator/OneDrive - Florida Inte...   \n",
      "10          1088  C:/Users/Administrator/OneDrive - Florida Inte...   \n",
      "12          1053  C:/Users/Administrator/OneDrive - Florida Inte...   \n",
      "...          ...                                                ...   \n",
      "2467        2401  C:/Users/Administrator/OneDrive - Florida Inte...   \n",
      "2471        2410  C:/Users/Administrator/OneDrive - Florida Inte...   \n",
      "2477         656  C:/Users/Administrator/OneDrive - Florida Inte...   \n",
      "2480        1126  C:/Users/Administrator/OneDrive - Florida Inte...   \n",
      "2482        2254  C:/Users/Administrator/OneDrive - Florida Inte...   \n",
      "\n",
      "                   label  label2  \n",
      "1             Vin Diesel       6  \n",
      "5            Talia Shire       2  \n",
      "6            Uma Thurman       5  \n",
      "10        Taylor Lautner       3  \n",
      "12        Taylor Lautner       3  \n",
      "...                  ...     ...  \n",
      "2467          Will Smith       7  \n",
      "2471          Will Smith       7  \n",
      "2477  Sylvester Stallone       1  \n",
      "2480      Taylor Lautner       3  \n",
      "2482          Vin Diesel       6  \n",
      "\n",
      "[497 rows x 4 columns]\n"
     ]
    },
    {
     "data": {
      "text/plain": [
       "497"
      ]
     },
     "execution_count": 3,
     "metadata": {},
     "output_type": "execute_result"
    }
   ],
   "source": [
    "X_1= X_1.sample(frac=1).reset_index(drop=True)\n",
    "x_train = X_1.sample(frac=.80).reset_index(drop=True)\n",
    "x_test = pd.concat([X_1,x_train]).drop_duplicates(keep=False)\n",
    "print(x_test)\n",
    "len(x_test)"
   ]
  },
  {
   "cell_type": "code",
   "execution_count": 4,
   "metadata": {},
   "outputs": [],
   "source": [
    "x_train1=[]\n",
    "y_train1=[]\n",
    "count = 0\n",
    "for _, row in x_train.iterrows():\n",
    "    try: \n",
    "        img = Image.open(str(row['filepath']))\n",
    "        # Get the original size of the image\n",
    "        width, height = img.size\n",
    "\n",
    "        # Calculate the new size while keeping the aspect ratio\n",
    "        if width > height:\n",
    "            new_width = 128\n",
    "            new_height = int(height * (new_width / width))\n",
    "        else:\n",
    "            new_height = 128\n",
    "            new_width = int(width * (new_height / height))\n",
    "\n",
    "        # Resize the image while keeping the aspect ratio\n",
    "        img_resized = img.resize((new_width, new_height))\n",
    "\n",
    "        # Create a new image with black padding if needed\n",
    "        background = Image.new('RGB', (128, 128), (0, 0, 0))\n",
    "        bg_w, bg_h = background.size\n",
    "        offset = ((bg_w - new_width) // 2, (bg_h - new_height) // 2)\n",
    "        background.paste(img_resized, offset)\n",
    "\n",
    "        # Check if the image mode is RGB\n",
    "        if background.mode == \"RGB\":\n",
    "            img_np = np.array(background)\n",
    "            # Append the image and the label\n",
    "            x_train1.append(img_np)\n",
    "            y_train1.append(row['label2'])\n",
    "        else:\n",
    "            # Skip the image and print a message\n",
    "            print(f\"Skipping image {row['filepath']} because it is not RGB\")\n",
    "    except:\n",
    "        continue"
   ]
  },
  {
   "cell_type": "code",
   "execution_count": 5,
   "metadata": {},
   "outputs": [
    {
     "name": "stdout",
     "output_type": "stream",
     "text": [
      "(559, 128, 128, 3)\n",
      "(559,)\n"
     ]
    }
   ],
   "source": [
    "y_train1=np.array(y_train1).astype('float32')\n",
    "x_train1 = np.array(x_train1).astype('float32')/127\n",
    "print(x_train1.shape)\n",
    "print(y_train1.shape)"
   ]
  },
  {
   "cell_type": "code",
   "execution_count": 6,
   "metadata": {},
   "outputs": [
    {
     "data": {
      "text/plain": [
       "array([5., 6., 7.], dtype=float32)"
      ]
     },
     "execution_count": 6,
     "metadata": {},
     "output_type": "execute_result"
    }
   ],
   "source": [
    "np.unique(y_train1)"
   ]
  },
  {
   "cell_type": "code",
   "execution_count": 7,
   "metadata": {},
   "outputs": [
    {
     "name": "stdout",
     "output_type": "stream",
     "text": [
      "(559, 8)\n"
     ]
    }
   ],
   "source": [
    "y_train2 = to_categorical(y_train1)\n",
    "print(y_train2.shape)"
   ]
  },
  {
   "cell_type": "code",
   "execution_count": 8,
   "metadata": {},
   "outputs": [
    {
     "name": "stdout",
     "output_type": "stream",
     "text": [
      "(199, 306)\n",
      "(367, 474)\n",
      "(174, 270)\n",
      "(146, 197)\n",
      "(137, 195)\n",
      "(181, 285)\n",
      "(1065, 1607)\n",
      "(225, 366)\n",
      "(254, 381)\n",
      "(239, 372)\n",
      "(118, 182)\n",
      "(151, 222)\n",
      "(194, 266)\n",
      "(109, 174)\n",
      "(146, 234)\n",
      "(259, 461)\n",
      "(117, 187)\n",
      "(229, 335)\n",
      "(277, 421)\n",
      "(187, 294)\n",
      "(200, 258)\n",
      "(174, 288)\n",
      "(75, 99)\n",
      "(332, 588)\n",
      "(97, 132)\n",
      "(253, 382)\n",
      "(730, 845)\n",
      "(211, 340)\n",
      "(384, 647)\n",
      "(220, 353)\n",
      "(601, 936)\n",
      "(192, 321)\n",
      "(208, 357)\n",
      "(89, 129)\n",
      "(276, 395)\n",
      "(1247, 1858)\n",
      "(68, 106)\n",
      "(351, 524)\n",
      "(329, 408)\n",
      "(248, 310)\n",
      "(325, 512)\n",
      "(129, 191)\n",
      "(193, 313)\n",
      "(166, 233)\n",
      "(102, 147)\n",
      "(204, 292)\n",
      "(227, 325)\n",
      "(303, 386)\n",
      "(132, 225)\n",
      "(123, 194)\n",
      "(185, 265)\n",
      "(144, 221)\n",
      "(220, 333)\n",
      "(284, 470)\n",
      "(420, 420)\n",
      "(279, 317)\n",
      "(125, 143)\n",
      "(245, 350)\n",
      "(504, 825)\n",
      "(324, 516)\n",
      "(301, 412)\n",
      "(101, 149)\n",
      "(173, 240)\n",
      "(256, 236)\n",
      "(451, 600)\n",
      "(221, 320)\n",
      "(119, 221)\n",
      "(317, 432)\n",
      "(237, 475)\n",
      "(257, 360)\n",
      "(447, 689)\n",
      "(205, 241)\n",
      "(300, 430)\n",
      "(186, 322)\n",
      "(289, 399)\n",
      "(189, 275)\n",
      "(294, 439)\n",
      "(178, 273)\n",
      "(164, 237)\n",
      "(500, 700)\n",
      "(290, 435)\n",
      "(205, 294)\n",
      "(100, 152)\n",
      "(94, 162)\n",
      "(143, 231)\n",
      "(340, 523)\n",
      "(379, 597)\n",
      "(212, 280)\n",
      "(146, 242)\n",
      "(429, 645)\n",
      "(112, 152)\n",
      "(427, 703)\n",
      "(299, 465)\n",
      "(300, 376)\n",
      "(128, 180)\n",
      "(255, 452)\n",
      "(157, 242)\n",
      "(178, 283)\n",
      "(1024, 768)\n",
      "(1280, 960)\n",
      "(211, 295)\n",
      "(288, 250)\n",
      "(235, 343)\n",
      "(148, 224)\n",
      "(813, 1054)\n",
      "(185, 264)\n",
      "(500, 700)\n",
      "(231, 299)\n",
      "(795, 821)\n",
      "(490, 825)\n",
      "(292, 498)\n",
      "(110, 171)\n",
      "(117, 156)\n",
      "(841, 1323)\n",
      "(141, 194)\n",
      "(401, 606)\n",
      "(367, 619)\n",
      "(146, 219)\n",
      "(377, 501)\n",
      "(355, 527)\n",
      "(158, 225)\n",
      "(236, 328)\n",
      "(620, 971)\n",
      "(126, 241)\n",
      "(616, 903)\n",
      "(415, 582)\n",
      "(180, 250)\n",
      "(334, 526)\n",
      "(394, 639)\n",
      "(612, 896)\n",
      "(634, 480)\n",
      "(69, 91)\n",
      "(961, 1418)\n",
      "(246, 358)\n",
      "(761, 939)\n",
      "(207, 319)\n",
      "(257, 411)\n",
      "(1106, 1689)\n",
      "(233, 451)\n",
      "(600, 779)\n",
      "(246, 413)\n",
      "(198, 295)\n",
      "(196, 240)\n",
      "(192, 270)\n",
      "(540, 751)\n",
      "(422, 620)\n",
      "(397, 635)\n",
      "(449, 656)\n"
     ]
    }
   ],
   "source": [
    "x_test1=[]\n",
    "y_test1=[]\n",
    "\n",
    "for _, row in x_test.iterrows():\n",
    "    try: \n",
    "        img = Image.open(str(row['filepath']))\n",
    "        # Get the original size of the image\n",
    "        width, height = img.size\n",
    "        print(img.size)\n",
    "        # Calculate the new size while keeping the aspect ratio\n",
    "        if width > height:\n",
    "            new_width = 128\n",
    "            new_height = int(height * (new_width / width))\n",
    "        else:\n",
    "            new_height = 128\n",
    "            new_width = int(width * (new_height / height))\n",
    "\n",
    "        # Resize the image while keeping the aspect ratio\n",
    "        img_resized = img.resize((new_width, new_height))\n",
    "\n",
    "        # Create a new image with black padding if needed\n",
    "        background = Image.new('RGB', (128, 128), (0, 0, 0))\n",
    "        bg_w, bg_h = background.size\n",
    "        offset = ((bg_w - new_width) // 2, (bg_h - new_height) // 2)\n",
    "        background.paste(img_resized, offset)\n",
    "\n",
    "        # Check if the image mode is RGB\n",
    "        if background.mode == \"RGB\":\n",
    "            # print(img.size)\n",
    "            img_np = np.array(background)\n",
    "            # Append the image and the label\n",
    "            x_test1.append(img_np)\n",
    "            y_test1.append(row['label2'])\n",
    "        else:\n",
    "            # Skip the image and print a message\n",
    "            print(f\"Skipping image {row['filepath']} because it is not RGB\")\n",
    "    except:\n",
    "        continue\n"
   ]
  },
  {
   "cell_type": "code",
   "execution_count": 9,
   "metadata": {},
   "outputs": [
    {
     "name": "stdout",
     "output_type": "stream",
     "text": [
      "(148, 128, 128, 3)\n",
      "(148,)\n"
     ]
    }
   ],
   "source": [
    "y_test1=np.array(y_test1).astype('float32')\n",
    "x_test1=np.array(x_test1).astype('float32')/127\n",
    "print(x_test1.shape)\n",
    "print(y_test1.shape)"
   ]
  },
  {
   "cell_type": "code",
   "execution_count": 10,
   "metadata": {},
   "outputs": [],
   "source": [
    "from tensorflow.keras.models import Sequential\n",
    "from tensorflow.keras.layers import Dense, Conv2D, AveragePooling2D, MaxPooling2D, Flatten, Dropout, BatchNormalization\n",
    "\n",
    "model = Sequential()\n",
    "#1st block\n",
    "# model.add(data_augmentation)\n",
    "model.add(Conv2D(96, (11,11), strides=(4,4), activation='relu', input_shape=(128, 128, 3)))\n",
    "model.add(MaxPooling2D(pool_size=(3,3), strides=(2,2)))\n",
    "model.add(BatchNormalization())\n",
    "\n",
    "#2nd block\n",
    "model.add(Conv2D(256, (5,5), strides=(1,1), activation='relu', padding=\"same\"))\n",
    "model.add(MaxPooling2D(pool_size=(3,3), strides=(2,2)))\n",
    "model.add(BatchNormalization())\n",
    "\n",
    "#3rd block\n",
    "model.add(Conv2D(384,(3,3), strides=(1,1), activation='relu', padding=\"same\"))\n",
    "model.add(Conv2D(384,(3,3), strides=(1,1), activation='relu', padding=\"same\"))\n",
    "model.add(Conv2D(256,(3,3), strides=(1,1), activation='relu', padding=\"same\"))\n",
    "model.add(MaxPooling2D(pool_size=(3,3), strides=(2,2)))\n",
    "model.add(BatchNormalization())\n",
    "\n",
    "#4th block\n",
    "model.add(Flatten())\n",
    "model.add(Dense(4096,input_shape=(128*128*3,),activation='relu'))\n",
    "model.add(Dropout(0.3))\n",
    "model.add(Dense(4096,input_shape=(4096,),activation='relu'))\n",
    "model.add(Dropout(0.3))\n",
    "model.add(Dense(8,input_shape=(4096,),activation='softmax'))"
   ]
  },
  {
   "cell_type": "code",
   "execution_count": 11,
   "metadata": {},
   "outputs": [],
   "source": [
    "model.compile(loss='categorical_crossentropy', optimizer='adam', metrics=['accuracy'])"
   ]
  },
  {
   "cell_type": "code",
   "execution_count": 12,
   "metadata": {},
   "outputs": [],
   "source": [
    "# import tensorflow as tf\n",
    "# checkpoint_path = \"training/best_model.h5\"\n",
    "\n",
    "# # Create the ModelCheckpoint callback\n",
    "# checkpoint_callback = tf.keras.callbacks.ModelCheckpoint(\n",
    "#     filepath=checkpoint_path,\n",
    "#     monitor='val_loss',  # Metric to monitor for saving the best model\n",
    "#     save_best_only=True, # Save only the best model, not every epoch\n",
    "#     save_weights_only=False,  # Save the entire model, not just weights\n",
    "#     verbose=1  # Display progress during saving\n",
    "# )"
   ]
  },
  {
   "cell_type": "code",
   "execution_count": 13,
   "metadata": {},
   "outputs": [
    {
     "name": "stdout",
     "output_type": "stream",
     "text": [
      "Epoch 1/100\n",
      "7/7 [==============================] - 4s 494ms/step - loss: 5.4689 - accuracy: 0.3781 - val_loss: 373.0965 - val_accuracy: 0.4018\n",
      "Epoch 2/100\n",
      "7/7 [==============================] - 3s 461ms/step - loss: 1.9343 - accuracy: 0.5503 - val_loss: 51.7928 - val_accuracy: 0.4018\n",
      "Epoch 3/100\n",
      "7/7 [==============================] - 3s 460ms/step - loss: 1.1432 - accuracy: 0.5548 - val_loss: 109.7682 - val_accuracy: 0.2411\n",
      "Epoch 4/100\n",
      "7/7 [==============================] - 3s 472ms/step - loss: 1.0024 - accuracy: 0.5839 - val_loss: 87.1746 - val_accuracy: 0.4018\n",
      "Epoch 5/100\n",
      "7/7 [==============================] - 3s 496ms/step - loss: 0.9612 - accuracy: 0.6063 - val_loss: 20.2537 - val_accuracy: 0.4018\n",
      "Epoch 6/100\n",
      "7/7 [==============================] - 3s 351ms/step - loss: 0.8612 - accuracy: 0.6063 - val_loss: 45.3539 - val_accuracy: 0.4018\n",
      "Epoch 7/100\n",
      "7/7 [==============================] - 2s 319ms/step - loss: 0.8062 - accuracy: 0.6488 - val_loss: 21.2683 - val_accuracy: 0.4018\n",
      "Epoch 8/100\n",
      "7/7 [==============================] - 2s 320ms/step - loss: 0.6757 - accuracy: 0.6890 - val_loss: 22.7011 - val_accuracy: 0.4018\n",
      "Epoch 9/100\n",
      "7/7 [==============================] - 2s 318ms/step - loss: 0.6520 - accuracy: 0.7248 - val_loss: 19.7340 - val_accuracy: 0.4018\n",
      "Epoch 10/100\n",
      "7/7 [==============================] - 2s 318ms/step - loss: 0.6757 - accuracy: 0.7114 - val_loss: 12.9110 - val_accuracy: 0.4107\n",
      "Epoch 11/100\n",
      "7/7 [==============================] - 2s 321ms/step - loss: 0.6876 - accuracy: 0.7159 - val_loss: 10.7492 - val_accuracy: 0.4196\n",
      "Epoch 12/100\n",
      "7/7 [==============================] - 2s 321ms/step - loss: 0.6422 - accuracy: 0.7136 - val_loss: 12.9754 - val_accuracy: 0.4196\n",
      "Epoch 13/100\n",
      "7/7 [==============================] - 2s 322ms/step - loss: 0.5121 - accuracy: 0.7763 - val_loss: 6.5057 - val_accuracy: 0.4286\n",
      "Epoch 14/100\n",
      "7/7 [==============================] - 2s 320ms/step - loss: 0.4607 - accuracy: 0.7987 - val_loss: 7.4371 - val_accuracy: 0.4286\n",
      "Epoch 15/100\n",
      "7/7 [==============================] - 2s 324ms/step - loss: 0.5478 - accuracy: 0.7808 - val_loss: 1.8987 - val_accuracy: 0.5268\n",
      "Epoch 16/100\n",
      "7/7 [==============================] - 2s 322ms/step - loss: 0.5034 - accuracy: 0.8098 - val_loss: 1.8304 - val_accuracy: 0.3304\n",
      "Epoch 17/100\n",
      "7/7 [==============================] - 2s 319ms/step - loss: 0.4513 - accuracy: 0.8210 - val_loss: 1.9316 - val_accuracy: 0.5625\n",
      "Epoch 18/100\n",
      "7/7 [==============================] - 2s 319ms/step - loss: 0.4658 - accuracy: 0.8166 - val_loss: 4.5277 - val_accuracy: 0.5000\n",
      "Epoch 19/100\n",
      "7/7 [==============================] - 2s 319ms/step - loss: 0.4902 - accuracy: 0.7942 - val_loss: 4.9270 - val_accuracy: 0.5179\n",
      "Epoch 20/100\n",
      "7/7 [==============================] - 2s 323ms/step - loss: 0.3453 - accuracy: 0.8635 - val_loss: 2.7895 - val_accuracy: 0.5179\n",
      "Epoch 21/100\n",
      "7/7 [==============================] - 2s 321ms/step - loss: 0.3529 - accuracy: 0.8658 - val_loss: 4.5195 - val_accuracy: 0.5179\n",
      "Epoch 22/100\n",
      "7/7 [==============================] - 2s 322ms/step - loss: 0.3662 - accuracy: 0.8613 - val_loss: 3.7728 - val_accuracy: 0.5893\n",
      "Epoch 23/100\n",
      "7/7 [==============================] - 2s 319ms/step - loss: 0.3428 - accuracy: 0.8568 - val_loss: 1.2352 - val_accuracy: 0.6696\n",
      "Epoch 24/100\n",
      "7/7 [==============================] - 2s 322ms/step - loss: 0.2359 - accuracy: 0.9083 - val_loss: 1.2008 - val_accuracy: 0.6786\n",
      "Epoch 25/100\n",
      "7/7 [==============================] - 2s 320ms/step - loss: 0.2808 - accuracy: 0.8971 - val_loss: 3.9117 - val_accuracy: 0.4821\n",
      "Epoch 26/100\n",
      "7/7 [==============================] - 2s 320ms/step - loss: 0.2611 - accuracy: 0.9016 - val_loss: 3.8764 - val_accuracy: 0.4643\n",
      "Epoch 27/100\n",
      "7/7 [==============================] - 2s 320ms/step - loss: 0.1744 - accuracy: 0.9374 - val_loss: 5.1952 - val_accuracy: 0.5089\n",
      "Epoch 28/100\n",
      "7/7 [==============================] - 2s 321ms/step - loss: 0.1517 - accuracy: 0.9418 - val_loss: 6.4859 - val_accuracy: 0.5179\n",
      "Epoch 29/100\n",
      "7/7 [==============================] - 2s 325ms/step - loss: 0.1168 - accuracy: 0.9575 - val_loss: 1.0685 - val_accuracy: 0.7679\n",
      "Epoch 30/100\n",
      "7/7 [==============================] - 2s 322ms/step - loss: 0.1450 - accuracy: 0.9530 - val_loss: 1.4218 - val_accuracy: 0.6875\n",
      "Epoch 31/100\n",
      "7/7 [==============================] - 2s 324ms/step - loss: 0.2143 - accuracy: 0.9195 - val_loss: 1.0473 - val_accuracy: 0.7589\n",
      "Epoch 32/100\n",
      "7/7 [==============================] - 2s 321ms/step - loss: 0.2011 - accuracy: 0.9105 - val_loss: 3.2051 - val_accuracy: 0.6518\n",
      "Epoch 33/100\n",
      "7/7 [==============================] - 2s 320ms/step - loss: 0.1398 - accuracy: 0.9441 - val_loss: 0.6244 - val_accuracy: 0.7946\n",
      "Epoch 34/100\n",
      "7/7 [==============================] - 2s 322ms/step - loss: 0.1710 - accuracy: 0.9396 - val_loss: 4.1256 - val_accuracy: 0.5625\n",
      "Epoch 35/100\n",
      "7/7 [==============================] - 2s 321ms/step - loss: 0.1525 - accuracy: 0.9485 - val_loss: 0.9314 - val_accuracy: 0.7946\n",
      "Epoch 36/100\n",
      "7/7 [==============================] - 2s 320ms/step - loss: 0.0736 - accuracy: 0.9776 - val_loss: 4.9973 - val_accuracy: 0.5446\n",
      "Epoch 37/100\n",
      "7/7 [==============================] - 2s 322ms/step - loss: 0.1158 - accuracy: 0.9575 - val_loss: 1.2313 - val_accuracy: 0.7589\n",
      "Epoch 38/100\n",
      "7/7 [==============================] - 2s 325ms/step - loss: 0.0964 - accuracy: 0.9754 - val_loss: 8.6260 - val_accuracy: 0.4375\n",
      "Epoch 39/100\n",
      "7/7 [==============================] - 2s 322ms/step - loss: 0.1643 - accuracy: 0.9396 - val_loss: 0.7744 - val_accuracy: 0.8393\n",
      "Epoch 40/100\n",
      "7/7 [==============================] - 2s 322ms/step - loss: 0.2593 - accuracy: 0.9195 - val_loss: 4.1063 - val_accuracy: 0.5000\n",
      "Epoch 41/100\n",
      "7/7 [==============================] - 2s 321ms/step - loss: 0.1897 - accuracy: 0.9239 - val_loss: 5.1667 - val_accuracy: 0.5089\n",
      "Epoch 42/100\n",
      "7/7 [==============================] - 2s 328ms/step - loss: 0.1098 - accuracy: 0.9597 - val_loss: 5.6398 - val_accuracy: 0.4375\n",
      "Epoch 43/100\n",
      "7/7 [==============================] - 2s 325ms/step - loss: 0.0321 - accuracy: 0.9933 - val_loss: 3.0202 - val_accuracy: 0.5893\n",
      "Epoch 44/100\n",
      "7/7 [==============================] - 2s 326ms/step - loss: 0.0233 - accuracy: 0.9888 - val_loss: 4.7522 - val_accuracy: 0.6161\n",
      "Epoch 45/100\n",
      "7/7 [==============================] - 2s 329ms/step - loss: 0.1195 - accuracy: 0.9709 - val_loss: 13.0973 - val_accuracy: 0.4286\n",
      "Epoch 46/100\n",
      "7/7 [==============================] - 2s 333ms/step - loss: 0.1524 - accuracy: 0.9553 - val_loss: 15.2917 - val_accuracy: 0.4554\n",
      "Epoch 47/100\n",
      "7/7 [==============================] - 2s 335ms/step - loss: 0.1153 - accuracy: 0.9575 - val_loss: 9.5382 - val_accuracy: 0.4375\n",
      "Epoch 48/100\n",
      "7/7 [==============================] - 2s 330ms/step - loss: 0.0967 - accuracy: 0.9687 - val_loss: 8.4947 - val_accuracy: 0.4821\n",
      "Epoch 49/100\n",
      "7/7 [==============================] - 2s 315ms/step - loss: 0.0460 - accuracy: 0.9888 - val_loss: 0.5433 - val_accuracy: 0.8839\n",
      "Epoch 50/100\n",
      "7/7 [==============================] - 2s 323ms/step - loss: 0.0418 - accuracy: 0.9866 - val_loss: 1.1789 - val_accuracy: 0.7857\n",
      "Epoch 51/100\n",
      "7/7 [==============================] - 2s 324ms/step - loss: 0.0181 - accuracy: 0.9933 - val_loss: 11.4287 - val_accuracy: 0.4375\n",
      "Epoch 52/100\n",
      "7/7 [==============================] - 2s 335ms/step - loss: 0.0169 - accuracy: 0.9933 - val_loss: 5.3902 - val_accuracy: 0.5446\n",
      "Epoch 53/100\n",
      "7/7 [==============================] - 2s 339ms/step - loss: 0.0214 - accuracy: 0.9911 - val_loss: 4.0069 - val_accuracy: 0.6250\n",
      "Epoch 54/100\n",
      "7/7 [==============================] - 2s 327ms/step - loss: 0.0410 - accuracy: 0.9866 - val_loss: 9.1024 - val_accuracy: 0.4911\n",
      "Epoch 55/100\n",
      "7/7 [==============================] - 2s 323ms/step - loss: 0.0568 - accuracy: 0.9754 - val_loss: 0.7910 - val_accuracy: 0.8393\n",
      "Epoch 56/100\n",
      "7/7 [==============================] - 2s 319ms/step - loss: 0.0835 - accuracy: 0.9732 - val_loss: 2.2584 - val_accuracy: 0.7054\n",
      "Epoch 57/100\n",
      "7/7 [==============================] - 2s 321ms/step - loss: 0.0912 - accuracy: 0.9687 - val_loss: 2.4329 - val_accuracy: 0.7768\n",
      "Epoch 58/100\n",
      "7/7 [==============================] - 2s 324ms/step - loss: 0.0643 - accuracy: 0.9799 - val_loss: 0.7213 - val_accuracy: 0.8482\n",
      "Epoch 59/100\n",
      "7/7 [==============================] - 2s 319ms/step - loss: 0.0508 - accuracy: 0.9843 - val_loss: 5.7536 - val_accuracy: 0.5714\n",
      "Epoch 60/100\n",
      "7/7 [==============================] - 2s 328ms/step - loss: 0.0584 - accuracy: 0.9866 - val_loss: 0.8040 - val_accuracy: 0.8214\n",
      "Epoch 61/100\n",
      "7/7 [==============================] - 2s 326ms/step - loss: 0.0694 - accuracy: 0.9687 - val_loss: 8.4105 - val_accuracy: 0.5536\n",
      "Epoch 62/100\n",
      "7/7 [==============================] - 2s 324ms/step - loss: 0.0100 - accuracy: 0.9978 - val_loss: 1.1158 - val_accuracy: 0.8036\n",
      "Epoch 63/100\n",
      "7/7 [==============================] - 2s 333ms/step - loss: 0.0105 - accuracy: 0.9978 - val_loss: 1.2969 - val_accuracy: 0.8125\n",
      "Epoch 64/100\n",
      "7/7 [==============================] - 2s 332ms/step - loss: 0.0202 - accuracy: 0.9955 - val_loss: 1.1495 - val_accuracy: 0.8036\n",
      "Epoch 65/100\n",
      "7/7 [==============================] - 2s 335ms/step - loss: 0.0306 - accuracy: 0.9888 - val_loss: 1.6962 - val_accuracy: 0.7143\n",
      "Epoch 66/100\n",
      "7/7 [==============================] - 2s 335ms/step - loss: 0.0288 - accuracy: 0.9888 - val_loss: 1.1365 - val_accuracy: 0.8125\n",
      "Epoch 67/100\n",
      "7/7 [==============================] - 3s 409ms/step - loss: 0.0061 - accuracy: 1.0000 - val_loss: 5.1434 - val_accuracy: 0.6161\n",
      "Epoch 68/100\n",
      "7/7 [==============================] - 3s 445ms/step - loss: 0.0317 - accuracy: 0.9866 - val_loss: 2.7701 - val_accuracy: 0.6607\n",
      "Epoch 69/100\n",
      "7/7 [==============================] - 3s 488ms/step - loss: 0.0595 - accuracy: 0.9866 - val_loss: 2.2819 - val_accuracy: 0.6607\n",
      "Epoch 70/100\n",
      "7/7 [==============================] - 3s 490ms/step - loss: 0.0713 - accuracy: 0.9799 - val_loss: 1.5787 - val_accuracy: 0.6964\n",
      "Epoch 71/100\n",
      "7/7 [==============================] - 3s 487ms/step - loss: 0.0773 - accuracy: 0.9732 - val_loss: 36.8488 - val_accuracy: 0.4018\n",
      "Epoch 72/100\n",
      "7/7 [==============================] - 3s 495ms/step - loss: 0.0711 - accuracy: 0.9754 - val_loss: 18.9237 - val_accuracy: 0.4107\n",
      "Epoch 73/100\n",
      "7/7 [==============================] - 3s 466ms/step - loss: 0.0978 - accuracy: 0.9687 - val_loss: 7.6964 - val_accuracy: 0.4911\n",
      "Epoch 74/100\n",
      "7/7 [==============================] - 3s 479ms/step - loss: 0.0484 - accuracy: 0.9821 - val_loss: 16.2227 - val_accuracy: 0.4196\n",
      "Epoch 75/100\n",
      "7/7 [==============================] - 3s 447ms/step - loss: 0.0258 - accuracy: 0.9911 - val_loss: 9.2761 - val_accuracy: 0.4286\n",
      "Epoch 76/100\n",
      "7/7 [==============================] - 3s 498ms/step - loss: 0.0053 - accuracy: 0.9978 - val_loss: 6.2798 - val_accuracy: 0.4911\n",
      "Epoch 77/100\n",
      "7/7 [==============================] - 3s 462ms/step - loss: 0.0315 - accuracy: 0.9933 - val_loss: 2.9330 - val_accuracy: 0.5982\n",
      "Epoch 78/100\n",
      "7/7 [==============================] - 3s 459ms/step - loss: 0.0820 - accuracy: 0.9821 - val_loss: 6.3078 - val_accuracy: 0.5268\n",
      "Epoch 79/100\n",
      "7/7 [==============================] - 3s 487ms/step - loss: 0.0622 - accuracy: 0.9821 - val_loss: 0.9864 - val_accuracy: 0.7857\n",
      "Epoch 80/100\n",
      "7/7 [==============================] - 3s 498ms/step - loss: 0.0165 - accuracy: 0.9933 - val_loss: 4.1300 - val_accuracy: 0.5893\n",
      "Epoch 81/100\n",
      "7/7 [==============================] - 3s 483ms/step - loss: 0.0131 - accuracy: 0.9978 - val_loss: 4.2835 - val_accuracy: 0.5893\n",
      "Epoch 82/100\n",
      "7/7 [==============================] - 3s 486ms/step - loss: 0.0120 - accuracy: 0.9978 - val_loss: 4.1495 - val_accuracy: 0.6161\n",
      "Epoch 83/100\n",
      "7/7 [==============================] - 3s 489ms/step - loss: 0.0036 - accuracy: 1.0000 - val_loss: 0.4401 - val_accuracy: 0.9107\n",
      "Epoch 84/100\n",
      "7/7 [==============================] - 3s 461ms/step - loss: 0.0018 - accuracy: 1.0000 - val_loss: 0.5529 - val_accuracy: 0.8929\n",
      "Epoch 85/100\n",
      "7/7 [==============================] - 3s 486ms/step - loss: 0.0043 - accuracy: 0.9978 - val_loss: 0.5522 - val_accuracy: 0.8661\n",
      "Epoch 86/100\n",
      "7/7 [==============================] - 3s 488ms/step - loss: 0.0020 - accuracy: 1.0000 - val_loss: 0.9148 - val_accuracy: 0.7946\n",
      "Epoch 87/100\n",
      "7/7 [==============================] - 3s 472ms/step - loss: 0.0018 - accuracy: 1.0000 - val_loss: 1.4837 - val_accuracy: 0.8036\n",
      "Epoch 88/100\n",
      "7/7 [==============================] - 3s 498ms/step - loss: 0.0016 - accuracy: 1.0000 - val_loss: 2.5646 - val_accuracy: 0.7054\n",
      "Epoch 89/100\n",
      "7/7 [==============================] - 3s 500ms/step - loss: 1.5141e-04 - accuracy: 1.0000 - val_loss: 1.9178 - val_accuracy: 0.7679\n",
      "Epoch 90/100\n",
      "7/7 [==============================] - 3s 451ms/step - loss: 2.2247e-04 - accuracy: 1.0000 - val_loss: 1.3771 - val_accuracy: 0.8125\n",
      "Epoch 91/100\n",
      "7/7 [==============================] - 3s 471ms/step - loss: 0.0013 - accuracy: 1.0000 - val_loss: 0.7332 - val_accuracy: 0.8929\n",
      "Epoch 92/100\n",
      "7/7 [==============================] - 3s 491ms/step - loss: 3.2549e-05 - accuracy: 1.0000 - val_loss: 0.4272 - val_accuracy: 0.9464\n",
      "Epoch 93/100\n",
      "7/7 [==============================] - 3s 485ms/step - loss: 1.9507e-04 - accuracy: 1.0000 - val_loss: 0.3390 - val_accuracy: 0.9375\n",
      "Epoch 94/100\n",
      "7/7 [==============================] - 3s 472ms/step - loss: 8.2995e-05 - accuracy: 1.0000 - val_loss: 0.3118 - val_accuracy: 0.9464\n",
      "Epoch 95/100\n",
      "7/7 [==============================] - 3s 482ms/step - loss: 1.7232e-04 - accuracy: 1.0000 - val_loss: 0.3105 - val_accuracy: 0.9464\n",
      "Epoch 96/100\n",
      "7/7 [==============================] - 3s 484ms/step - loss: 6.9058e-05 - accuracy: 1.0000 - val_loss: 0.3164 - val_accuracy: 0.9464\n",
      "Epoch 97/100\n",
      "7/7 [==============================] - 3s 481ms/step - loss: 8.5860e-05 - accuracy: 1.0000 - val_loss: 0.3340 - val_accuracy: 0.9375\n",
      "Epoch 98/100\n",
      "7/7 [==============================] - 3s 481ms/step - loss: 4.2975e-05 - accuracy: 1.0000 - val_loss: 0.3494 - val_accuracy: 0.9375\n",
      "Epoch 99/100\n",
      "7/7 [==============================] - 3s 484ms/step - loss: 3.5489e-05 - accuracy: 1.0000 - val_loss: 0.3602 - val_accuracy: 0.9375\n",
      "Epoch 100/100\n",
      "7/7 [==============================] - 3s 478ms/step - loss: 6.9568e-05 - accuracy: 1.0000 - val_loss: 0.3668 - val_accuracy: 0.9375\n"
     ]
    },
    {
     "data": {
      "text/plain": [
       "<keras.callbacks.History at 0x20b38f80310>"
      ]
     },
     "execution_count": 13,
     "metadata": {},
     "output_type": "execute_result"
    }
   ],
   "source": [
    "# model.fit(x_train1, y_train2, epochs=100, batch_size=32, validation_split=0.2, callbacks=[checkpoint_callback])\n",
    "model.fit(x_train1, y_train2, epochs=100, batch_size=64, validation_split=0.2)"
   ]
  },
  {
   "cell_type": "code",
   "execution_count": 14,
   "metadata": {},
   "outputs": [
    {
     "data": {
      "image/png": "[encoded data removed]",
      "text/plain": [
       "<Figure size 432x288 with 1 Axes>"
      ]
     },
     "metadata": {
      "needs_background": "light"
     },
     "output_type": "display_data"
    }
   ],
   "source": [
    "import matplotlib.pyplot as plt\n",
    "plt.plot(model.history.history['loss'])\n",
    "plt.plot(model.history.history['val_loss'])\n",
    "plt.title('Model Loss')\n",
    "plt.ylabel('Loss')\n",
    "plt.xlabel('Epoch')\n",
    "plt.legend(['Train', 'Validation'], loc='upper right')\n",
    "plt.savefig('loss_fucntion0.pdf', format='pdf')"
   ]
  },
  {
   "cell_type": "code",
   "execution_count": 15,
   "metadata": {},
   "outputs": [],
   "source": [
    "# load_model = tf.keras.models.load_model(checkpoint_path)"
   ]
  },
  {
   "cell_type": "code",
   "execution_count": 16,
   "metadata": {},
   "outputs": [
    {
     "name": "stderr",
     "output_type": "stream",
     "text": [
      "WARNING:absl:Found untraced functions such as _jit_compiled_convolution_op, _jit_compiled_convolution_op, _jit_compiled_convolution_op, _jit_compiled_convolution_op, _jit_compiled_convolution_op while saving (showing 5 of 5). These functions will not be directly callable after loading.\n"
     ]
    },
    {
     "name": "stdout",
     "output_type": "stream",
     "text": [
      "INFO:tensorflow:Assets written to: my_model5_1\\assets\n"
     ]
    },
    {
     "name": "stderr",
     "output_type": "stream",
     "text": [
      "INFO:tensorflow:Assets written to: my_model5_1\\assets\n"
     ]
    }
   ],
   "source": [
    "import tensorflow as tf\n",
    "# Save the entire model in SavedModel format\n",
    "model.save('my_model5_1')"
   ]
  },
  {
   "cell_type": "code",
   "execution_count": 17,
   "metadata": {},
   "outputs": [],
   "source": [
    "# Load the model back\n",
    "load_model = tf.keras.models.load_model('my_model5_1')"
   ]
  },
  {
   "cell_type": "code",
   "execution_count": 18,
   "metadata": {},
   "outputs": [
    {
     "name": "stdout",
     "output_type": "stream",
     "text": [
      "(148, 8)\n"
     ]
    }
   ],
   "source": [
    "y_test2 = to_categorical(y_test1)\n",
    "print(y_test2.shape)"
   ]
  },
  {
   "cell_type": "code",
   "execution_count": 19,
   "metadata": {},
   "outputs": [
    {
     "name": "stdout",
     "output_type": "stream",
     "text": [
      "5/5 [==============================] - 0s 49ms/step - loss: 0.7268 - accuracy: 0.9054\n"
     ]
    }
   ],
   "source": [
    "\n",
    "accuracy = model.evaluate(x_test1, y_test2)"
   ]
  },
  {
   "cell_type": "code",
   "execution_count": 20,
   "metadata": {},
   "outputs": [
    {
     "name": "stdout",
     "output_type": "stream",
     "text": [
      "5/5 [==============================] - 0s 51ms/step\n",
      "[[2.3284072e-12 2.6708566e-12 1.7462265e-12 ... 1.9704355e-06\n",
      "  9.9995291e-01 4.5113633e-05]\n",
      " [2.8567526e-10 2.7401686e-10 5.2671456e-10 ... 8.5958314e-01\n",
      "  1.4032523e-01 9.1582806e-05]\n",
      " [4.2877464e-12 6.4621581e-12 3.4673525e-12 ... 4.6785306e-05\n",
      "  9.9994731e-01 5.8839641e-06]\n",
      " ...\n",
      " [6.7063211e-10 1.6546582e-10 2.7307251e-10 ... 3.1218733e-05\n",
      "  2.0295721e-04 9.9976581e-01]\n",
      " [7.0476780e-14 1.6722024e-14 2.1515247e-14 ... 1.3703761e-06\n",
      "  5.3832832e-07 9.9999809e-01]\n",
      " [6.4747025e-19 4.3260308e-20 1.0125231e-19 ... 3.7009487e-09\n",
      "  5.0954529e-09 1.0000000e+00]]\n"
     ]
    }
   ],
   "source": [
    "predicted = model.predict(x_test1) \n",
    "print(predicted)"
   ]
  },
  {
   "cell_type": "code",
   "execution_count": 21,
   "metadata": {},
   "outputs": [
    {
     "name": "stdout",
     "output_type": "stream",
     "text": [
      "[6 5 6 5 7 5 7 6 5 6 7 6 7 7 5 6 7 6 6 6 6 5 6 7 7 6 6 6 6 6 5 7 6 7 7 5 5\n",
      " 6 6 6 6 5 6 7 7 7 5 5 5 6 5 7 5 5 7 6 6 6 5 5 6 5 7 6 5 6 6 5 7 6 7 6 6 5\n",
      " 6 7 5 5 5 5 5 5 5 7 7 6 6 6 5 7 5 7 5 5 5 6 5 5 5 6 5 6 6 5 6 5 5 5 5 7 6\n",
      " 5 5 7 6 6 5 5 5 6 6 7 5 6 5 5 5 7 6 5 5 7 7 5 6 5 5 6 6 5 6 7 6 5 6 7 7 7]\n"
     ]
    }
   ],
   "source": [
    "classes=np.argmax(predicted,axis=1)\n",
    "print(classes)"
   ]
  },
  {
   "cell_type": "code",
   "execution_count": 22,
   "metadata": {},
   "outputs": [
    {
     "data": {
      "image/png": "[encoded data removed]",
      "text/plain": [
       "<Figure size 432x288 with 1 Axes>"
      ]
     },
     "metadata": {
      "needs_background": "light"
     },
     "output_type": "display_data"
    }
   ],
   "source": [
    "import seaborn as sn\n",
    "import pandas as pd\n",
    "import matplotlib.pyplot as plt\n",
    "from sklearn.metrics import confusion_matrix\n",
    "\n",
    "labels = [5, 6, 7] # use the numbers as labels for the confusion matrix\n",
    "cm = confusion_matrix(y_test1, classes, labels=labels)\n",
    "df_cm = pd.DataFrame(cm, labels, labels)\n",
    "ax = sn.heatmap(df_cm, annot=True, annot_kws={'size': 16}, square=True, cbar=False, fmt='g')\n",
    "ax.set_ylim(0, 3)\n",
    "plt.xlabel('Predicted') \n",
    "plt.ylabel('Actual')\n",
    "ax.invert_yaxis() #optional\n",
    "\n",
    "# set the tick labels of the x-axis and y-axis to show the desired labels\n",
    "plt.xticks([0.5, 1.5, 2.5], ['UT', 'VD', 'WS']) # set the x-axis tick locations and labels\n",
    "plt.yticks([0.5, 1.5, 2.5], ['UT', 'VD', 'WS']) # set the y-axis tick locations and labels\n",
    "\n",
    "plt.savefig('heatmap1.pdf', format='pdf')\n",
    "plt.show()"
   ]
  }
 ],
 "metadata": {
  "kernelspec": {
   "display_name": "Python 3.7.9 64-bit",
   "language": "python",
   "name": "python3"
  },
  "language_info": {
   "codemirror_mode": {
    "name": "ipython",
    "version": 3
   },
   "file_extension": ".py",
   "mimetype": "text/x-python",
   "name": "python",
   "nbconvert_exporter": "python",
   "pygments_lexer": "ipython3",
   "version": "3.10.5"
  },
  "orig_nbformat": 4,
  "vscode": {
   "interpreter": {
    "hash": "1b7a87145c0c489198195dcc08ad54a4d38b2d0819abd05b0d500963bab37a76"
   }
  }
 },
 "nbformat": 4,
 "nbformat_minor": 2
}
